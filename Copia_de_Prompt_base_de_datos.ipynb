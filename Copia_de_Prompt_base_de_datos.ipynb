{
  "nbformat": 4,
  "nbformat_minor": 0,
  "metadata": {
    "colab": {
      "provenance": [],
      "authorship_tag": "ABX9TyPiWnczOcgmo6nIK4Y7dlQm",
      "include_colab_link": true
    },
    "kernelspec": {
      "name": "python3",
      "display_name": "Python 3"
    },
    "language_info": {
      "name": "python"
    }
  },
  "cells": [
    {
      "cell_type": "markdown",
      "metadata": {
        "id": "view-in-github",
        "colab_type": "text"
      },
      "source": [
        "<a href=\"https://colab.research.google.com/github/lauracguevaraa-tech/Base-de-Datos-Real/blob/main/Copia_de_Prompt_base_de_datos.ipynb\" target=\"_parent\"><img src=\"https://colab.research.google.com/assets/colab-badge.svg\" alt=\"Open In Colab\"/></a>"
      ]
    },
    {
      "cell_type": "code",
      "execution_count": null,
      "metadata": {
        "colab": {
          "base_uri": "https://localhost:8080/"
        },
        "id": "YHJiIsDBW3PB",
        "outputId": "8a7f8bae-77be-41d7-c7c8-2cb08ecc7f2e"
      },
      "outputs": [
        {
          "output_type": "stream",
          "name": "stdout",
          "text": [
            "Epoch 1/50\n"
          ]
        },
        {
          "output_type": "stream",
          "name": "stderr",
          "text": [
            "/usr/local/lib/python3.12/dist-packages/keras/src/layers/core/dense.py:93: UserWarning: Do not pass an `input_shape`/`input_dim` argument to a layer. When using Sequential models, prefer using an `Input(shape)` object as the first layer in the model instead.\n",
            "  super().__init__(activity_regularizer=activity_regularizer, **kwargs)\n"
          ]
        },
        {
          "output_type": "stream",
          "name": "stdout",
          "text": [
            "\u001b[1m5/5\u001b[0m \u001b[32m━━━━━━━━━━━━━━━━━━━━\u001b[0m\u001b[37m\u001b[0m \u001b[1m2s\u001b[0m 66ms/step - accuracy: 0.2052 - loss: 1.2755 - val_accuracy: 0.2000 - val_loss: 1.0668\n",
            "Epoch 2/50\n",
            "\u001b[1m5/5\u001b[0m \u001b[32m━━━━━━━━━━━━━━━━━━━━\u001b[0m\u001b[37m\u001b[0m \u001b[1m0s\u001b[0m 17ms/step - accuracy: 0.3958 - loss: 1.1472 - val_accuracy: 0.3500 - val_loss: 1.0588\n",
            "Epoch 3/50\n",
            "\u001b[1m5/5\u001b[0m \u001b[32m━━━━━━━━━━━━━━━━━━━━\u001b[0m\u001b[37m\u001b[0m \u001b[1m0s\u001b[0m 18ms/step - accuracy: 0.3773 - loss: 1.1497 - val_accuracy: 0.4000 - val_loss: 1.0569\n",
            "Epoch 4/50\n",
            "\u001b[1m5/5\u001b[0m \u001b[32m━━━━━━━━━━━━━━━━━━━━\u001b[0m\u001b[37m\u001b[0m \u001b[1m0s\u001b[0m 17ms/step - accuracy: 0.3646 - loss: 1.0982 - val_accuracy: 0.4500 - val_loss: 1.0568\n",
            "Epoch 5/50\n",
            "\u001b[1m5/5\u001b[0m \u001b[32m━━━━━━━━━━━━━━━━━━━━\u001b[0m\u001b[37m\u001b[0m \u001b[1m0s\u001b[0m 18ms/step - accuracy: 0.5030 - loss: 1.0805 - val_accuracy: 0.4000 - val_loss: 1.0613\n",
            "Epoch 6/50\n",
            "\u001b[1m5/5\u001b[0m \u001b[32m━━━━━━━━━━━━━━━━━━━━\u001b[0m\u001b[37m\u001b[0m \u001b[1m0s\u001b[0m 17ms/step - accuracy: 0.5148 - loss: 1.0249 - val_accuracy: 0.3000 - val_loss: 1.0693\n",
            "Epoch 7/50\n",
            "\u001b[1m5/5\u001b[0m \u001b[32m━━━━━━━━━━━━━━━━━━━━\u001b[0m\u001b[37m\u001b[0m \u001b[1m0s\u001b[0m 18ms/step - accuracy: 0.5102 - loss: 1.0066 - val_accuracy: 0.3500 - val_loss: 1.0754\n",
            "Epoch 8/50\n",
            "\u001b[1m5/5\u001b[0m \u001b[32m━━━━━━━━━━━━━━━━━━━━\u001b[0m\u001b[37m\u001b[0m \u001b[1m0s\u001b[0m 18ms/step - accuracy: 0.5484 - loss: 0.9699 - val_accuracy: 0.4500 - val_loss: 1.0796\n",
            "Epoch 9/50\n",
            "\u001b[1m5/5\u001b[0m \u001b[32m━━━━━━━━━━━━━━━━━━━━\u001b[0m\u001b[37m\u001b[0m \u001b[1m0s\u001b[0m 18ms/step - accuracy: 0.4819 - loss: 1.0161 - val_accuracy: 0.4500 - val_loss: 1.0875\n",
            "Epoch 10/50\n",
            "\u001b[1m5/5\u001b[0m \u001b[32m━━━━━━━━━━━━━━━━━━━━\u001b[0m\u001b[37m\u001b[0m \u001b[1m0s\u001b[0m 17ms/step - accuracy: 0.5707 - loss: 1.0026 - val_accuracy: 0.5000 - val_loss: 1.0908\n",
            "Epoch 11/50\n",
            "\u001b[1m5/5\u001b[0m \u001b[32m━━━━━━━━━━━━━━━━━━━━\u001b[0m\u001b[37m\u001b[0m \u001b[1m0s\u001b[0m 17ms/step - accuracy: 0.5009 - loss: 1.0226 - val_accuracy: 0.5000 - val_loss: 1.0933\n",
            "Epoch 12/50\n",
            "\u001b[1m5/5\u001b[0m \u001b[32m━━━━━━━━━━━━━━━━━━━━\u001b[0m\u001b[37m\u001b[0m \u001b[1m0s\u001b[0m 18ms/step - accuracy: 0.5491 - loss: 0.9992 - val_accuracy: 0.5000 - val_loss: 1.0987\n",
            "Epoch 13/50\n",
            "\u001b[1m5/5\u001b[0m \u001b[32m━━━━━━━━━━━━━━━━━━━━\u001b[0m\u001b[37m\u001b[0m \u001b[1m0s\u001b[0m 18ms/step - accuracy: 0.6316 - loss: 0.9462 - val_accuracy: 0.5000 - val_loss: 1.1005\n",
            "Epoch 14/50\n",
            "\u001b[1m5/5\u001b[0m \u001b[32m━━━━━━━━━━━━━━━━━━━━\u001b[0m\u001b[37m\u001b[0m \u001b[1m0s\u001b[0m 18ms/step - accuracy: 0.4967 - loss: 0.9661 - val_accuracy: 0.5000 - val_loss: 1.1062\n",
            "Epoch 15/50\n",
            "\u001b[1m5/5\u001b[0m \u001b[32m━━━━━━━━━━━━━━━━━━━━\u001b[0m\u001b[37m\u001b[0m \u001b[1m0s\u001b[0m 23ms/step - accuracy: 0.4644 - loss: 0.9539 - val_accuracy: 0.5000 - val_loss: 1.1099\n",
            "Epoch 16/50\n",
            "\u001b[1m5/5\u001b[0m \u001b[32m━━━━━━━━━━━━━━━━━━━━\u001b[0m\u001b[37m\u001b[0m \u001b[1m0s\u001b[0m 19ms/step - accuracy: 0.6891 - loss: 0.9067 - val_accuracy: 0.4500 - val_loss: 1.1130\n",
            "Epoch 17/50\n",
            "\u001b[1m5/5\u001b[0m \u001b[32m━━━━━━━━━━━━━━━━━━━━\u001b[0m\u001b[37m\u001b[0m \u001b[1m0s\u001b[0m 18ms/step - accuracy: 0.5589 - loss: 0.9961 - val_accuracy: 0.5000 - val_loss: 1.1143\n",
            "Epoch 18/50\n",
            "\u001b[1m5/5\u001b[0m \u001b[32m━━━━━━━━━━━━━━━━━━━━\u001b[0m\u001b[37m\u001b[0m \u001b[1m0s\u001b[0m 18ms/step - accuracy: 0.6082 - loss: 0.8921 - val_accuracy: 0.4500 - val_loss: 1.1196\n",
            "Epoch 19/50\n",
            "\u001b[1m5/5\u001b[0m \u001b[32m━━━━━━━━━━━━━━━━━━━━\u001b[0m\u001b[37m\u001b[0m \u001b[1m0s\u001b[0m 18ms/step - accuracy: 0.5993 - loss: 0.8942 - val_accuracy: 0.4500 - val_loss: 1.1231\n",
            "Epoch 20/50\n",
            "\u001b[1m5/5\u001b[0m \u001b[32m━━━━━━━━━━━━━━━━━━━━\u001b[0m\u001b[37m\u001b[0m \u001b[1m0s\u001b[0m 17ms/step - accuracy: 0.6212 - loss: 0.8931 - val_accuracy: 0.4500 - val_loss: 1.1280\n",
            "Epoch 21/50\n",
            "\u001b[1m5/5\u001b[0m \u001b[32m━━━━━━━━━━━━━━━━━━━━\u001b[0m\u001b[37m\u001b[0m \u001b[1m0s\u001b[0m 17ms/step - accuracy: 0.6727 - loss: 0.9098 - val_accuracy: 0.4500 - val_loss: 1.1362\n",
            "Epoch 22/50\n",
            "\u001b[1m5/5\u001b[0m \u001b[32m━━━━━━━━━━━━━━━━━━━━\u001b[0m\u001b[37m\u001b[0m \u001b[1m0s\u001b[0m 17ms/step - accuracy: 0.6474 - loss: 0.8611 - val_accuracy: 0.4500 - val_loss: 1.1421\n",
            "Epoch 23/50\n",
            "\u001b[1m5/5\u001b[0m \u001b[32m━━━━━━━━━━━━━━━━━━━━\u001b[0m\u001b[37m\u001b[0m \u001b[1m0s\u001b[0m 18ms/step - accuracy: 0.7109 - loss: 0.8309 - val_accuracy: 0.4500 - val_loss: 1.1486\n",
            "Epoch 24/50\n",
            "\u001b[1m5/5\u001b[0m \u001b[32m━━━━━━━━━━━━━━━━━━━━\u001b[0m\u001b[37m\u001b[0m \u001b[1m0s\u001b[0m 17ms/step - accuracy: 0.6078 - loss: 0.8457 - val_accuracy: 0.4500 - val_loss: 1.1606\n",
            "Epoch 25/50\n",
            "\u001b[1m5/5\u001b[0m \u001b[32m━━━━━━━━━━━━━━━━━━━━\u001b[0m\u001b[37m\u001b[0m \u001b[1m0s\u001b[0m 28ms/step - accuracy: 0.6634 - loss: 0.7709 - val_accuracy: 0.4500 - val_loss: 1.1687\n",
            "Epoch 26/50\n",
            "\u001b[1m5/5\u001b[0m \u001b[32m━━━━━━━━━━━━━━━━━━━━\u001b[0m\u001b[37m\u001b[0m \u001b[1m0s\u001b[0m 18ms/step - accuracy: 0.6464 - loss: 0.8369 - val_accuracy: 0.4000 - val_loss: 1.1744\n",
            "Epoch 27/50\n",
            "\u001b[1m5/5\u001b[0m \u001b[32m━━━━━━━━━━━━━━━━━━━━\u001b[0m\u001b[37m\u001b[0m \u001b[1m0s\u001b[0m 18ms/step - accuracy: 0.6885 - loss: 0.7967 - val_accuracy: 0.4000 - val_loss: 1.1768\n",
            "Epoch 28/50\n",
            "\u001b[1m5/5\u001b[0m \u001b[32m━━━━━━━━━━━━━━━━━━━━\u001b[0m\u001b[37m\u001b[0m \u001b[1m0s\u001b[0m 17ms/step - accuracy: 0.6503 - loss: 0.7817 - val_accuracy: 0.4000 - val_loss: 1.1862\n",
            "Epoch 29/50\n",
            "\u001b[1m5/5\u001b[0m \u001b[32m━━━━━━━━━━━━━━━━━━━━\u001b[0m\u001b[37m\u001b[0m \u001b[1m0s\u001b[0m 28ms/step - accuracy: 0.7097 - loss: 0.8348 - val_accuracy: 0.4000 - val_loss: 1.1943\n",
            "Epoch 30/50\n",
            "\u001b[1m5/5\u001b[0m \u001b[32m━━━━━━━━━━━━━━━━━━━━\u001b[0m\u001b[37m\u001b[0m \u001b[1m0s\u001b[0m 29ms/step - accuracy: 0.6144 - loss: 0.8281 - val_accuracy: 0.4000 - val_loss: 1.2038\n",
            "Epoch 31/50\n",
            "\u001b[1m5/5\u001b[0m \u001b[32m━━━━━━━━━━━━━━━━━━━━\u001b[0m\u001b[37m\u001b[0m \u001b[1m0s\u001b[0m 33ms/step - accuracy: 0.5826 - loss: 0.8327 - val_accuracy: 0.4000 - val_loss: 1.2112\n",
            "Epoch 32/50\n",
            "\u001b[1m5/5\u001b[0m \u001b[32m━━━━━━━━━━━━━━━━━━━━\u001b[0m\u001b[37m\u001b[0m \u001b[1m0s\u001b[0m 34ms/step - accuracy: 0.7030 - loss: 0.7790 - val_accuracy: 0.4000 - val_loss: 1.2187\n",
            "Epoch 33/50\n",
            "\u001b[1m5/5\u001b[0m \u001b[32m━━━━━━━━━━━━━━━━━━━━\u001b[0m\u001b[37m\u001b[0m \u001b[1m0s\u001b[0m 24ms/step - accuracy: 0.6306 - loss: 0.8159 - val_accuracy: 0.4000 - val_loss: 1.2279\n",
            "Epoch 34/50\n",
            "\u001b[1m5/5\u001b[0m \u001b[32m━━━━━━━━━━━━━━━━━━━━\u001b[0m\u001b[37m\u001b[0m \u001b[1m0s\u001b[0m 32ms/step - accuracy: 0.6486 - loss: 0.7798 - val_accuracy: 0.4000 - val_loss: 1.2313\n",
            "Epoch 35/50\n",
            "\u001b[1m5/5\u001b[0m \u001b[32m━━━━━━━━━━━━━━━━━━━━\u001b[0m\u001b[37m\u001b[0m \u001b[1m0s\u001b[0m 24ms/step - accuracy: 0.5793 - loss: 0.7891 - val_accuracy: 0.4500 - val_loss: 1.2338\n",
            "Epoch 36/50\n",
            "\u001b[1m5/5\u001b[0m \u001b[32m━━━━━━━━━━━━━━━━━━━━\u001b[0m\u001b[37m\u001b[0m \u001b[1m0s\u001b[0m 26ms/step - accuracy: 0.6125 - loss: 0.8377 - val_accuracy: 0.4500 - val_loss: 1.2374\n",
            "Epoch 37/50\n",
            "\u001b[1m5/5\u001b[0m \u001b[32m━━━━━━━━━━━━━━━━━━━━\u001b[0m\u001b[37m\u001b[0m \u001b[1m0s\u001b[0m 28ms/step - accuracy: 0.6892 - loss: 0.7344 - val_accuracy: 0.4500 - val_loss: 1.2450\n",
            "Epoch 38/50\n",
            "\u001b[1m5/5\u001b[0m \u001b[32m━━━━━━━━━━━━━━━━━━━━\u001b[0m\u001b[37m\u001b[0m \u001b[1m0s\u001b[0m 42ms/step - accuracy: 0.6132 - loss: 0.8213 - val_accuracy: 0.4500 - val_loss: 1.2528\n",
            "Epoch 39/50\n",
            "\u001b[1m5/5\u001b[0m \u001b[32m━━━━━━━━━━━━━━━━━━━━\u001b[0m\u001b[37m\u001b[0m \u001b[1m0s\u001b[0m 36ms/step - accuracy: 0.6561 - loss: 0.7376 - val_accuracy: 0.4500 - val_loss: 1.2598\n",
            "Epoch 40/50\n",
            "\u001b[1m5/5\u001b[0m \u001b[32m━━━━━━━━━━━━━━━━━━━━\u001b[0m\u001b[37m\u001b[0m \u001b[1m0s\u001b[0m 28ms/step - accuracy: 0.6880 - loss: 0.7325 - val_accuracy: 0.4500 - val_loss: 1.2669\n",
            "Epoch 41/50\n",
            "\u001b[1m5/5\u001b[0m \u001b[32m━━━━━━━━━━━━━━━━━━━━\u001b[0m\u001b[37m\u001b[0m \u001b[1m0s\u001b[0m 24ms/step - accuracy: 0.7635 - loss: 0.6613 - val_accuracy: 0.4500 - val_loss: 1.2786\n",
            "Epoch 42/50\n",
            "\u001b[1m5/5\u001b[0m \u001b[32m━━━━━━━━━━━━━━━━━━━━\u001b[0m\u001b[37m\u001b[0m \u001b[1m0s\u001b[0m 17ms/step - accuracy: 0.6898 - loss: 0.7606 - val_accuracy: 0.4500 - val_loss: 1.2905\n",
            "Epoch 43/50\n",
            "\u001b[1m5/5\u001b[0m \u001b[32m━━━━━━━━━━━━━━━━━━━━\u001b[0m\u001b[37m\u001b[0m \u001b[1m0s\u001b[0m 17ms/step - accuracy: 0.7443 - loss: 0.6916 - val_accuracy: 0.4500 - val_loss: 1.3002\n",
            "Epoch 44/50\n",
            "\u001b[1m5/5\u001b[0m \u001b[32m━━━━━━━━━━━━━━━━━━━━\u001b[0m\u001b[37m\u001b[0m \u001b[1m0s\u001b[0m 17ms/step - accuracy: 0.7437 - loss: 0.6883 - val_accuracy: 0.4500 - val_loss: 1.3032\n",
            "Epoch 45/50\n",
            "\u001b[1m5/5\u001b[0m \u001b[32m━━━━━━━━━━━━━━━━━━━━\u001b[0m\u001b[37m\u001b[0m \u001b[1m0s\u001b[0m 18ms/step - accuracy: 0.7281 - loss: 0.6789 - val_accuracy: 0.4500 - val_loss: 1.3127\n",
            "Epoch 46/50\n",
            "\u001b[1m5/5\u001b[0m \u001b[32m━━━━━━━━━━━━━━━━━━━━\u001b[0m\u001b[37m\u001b[0m \u001b[1m0s\u001b[0m 22ms/step - accuracy: 0.7259 - loss: 0.6665 - val_accuracy: 0.4500 - val_loss: 1.3264\n",
            "Epoch 47/50\n",
            "\u001b[1m5/5\u001b[0m \u001b[32m━━━━━━━━━━━━━━━━━━━━\u001b[0m\u001b[37m\u001b[0m \u001b[1m0s\u001b[0m 17ms/step - accuracy: 0.6953 - loss: 0.6681 - val_accuracy: 0.4500 - val_loss: 1.3388\n",
            "Epoch 48/50\n",
            "\u001b[1m5/5\u001b[0m \u001b[32m━━━━━━━━━━━━━━━━━━━━\u001b[0m\u001b[37m\u001b[0m \u001b[1m0s\u001b[0m 17ms/step - accuracy: 0.5993 - loss: 0.7687 - val_accuracy: 0.4500 - val_loss: 1.3404\n",
            "Epoch 49/50\n",
            "\u001b[1m5/5\u001b[0m \u001b[32m━━━━━━━━━━━━━━━━━━━━\u001b[0m\u001b[37m\u001b[0m \u001b[1m0s\u001b[0m 17ms/step - accuracy: 0.6585 - loss: 0.7174 - val_accuracy: 0.4500 - val_loss: 1.3448\n",
            "Epoch 50/50\n",
            "\u001b[1m5/5\u001b[0m \u001b[32m━━━━━━━━━━━━━━━━━━━━\u001b[0m\u001b[37m\u001b[0m \u001b[1m0s\u001b[0m 17ms/step - accuracy: 0.7243 - loss: 0.7159 - val_accuracy: 0.4500 - val_loss: 1.3549\n",
            "✅ Precisión en datos de prueba: 45.00%\n",
            "\u001b[1m1/1\u001b[0m \u001b[32m━━━━━━━━━━━━━━━━━━━━\u001b[0m\u001b[37m\u001b[0m \u001b[1m0s\u001b[0m 68ms/step\n",
            "Predicción para lote de ejemplo: Reproceso\n"
          ]
        }
      ],
      "source": [
        "# ================================================\n",
        "# RED NEURONAL MLP PARA BASE DE DATOS DE CHOCOLATE\n",
        "# ================================================\n",
        "\n",
        "# 1. Librerías\n",
        "import pandas as pd\n",
        "import numpy as np\n",
        "from sklearn.model_selection import train_test_split\n",
        "from sklearn.preprocessing import StandardScaler, LabelEncoder\n",
        "from tensorflow.keras.models import Sequential\n",
        "from tensorflow.keras.layers import Dense, Dropout\n",
        "from tensorflow.keras.utils import to_categorical\n",
        "\n",
        "# 2. Cargar la base de datos simulada (reemplaza con tu CSV si ya lo guardaste)\n",
        "# Aquí asumimos que tienes un archivo \"chocolate_procesos.csv\"\n",
        "df = pd.read_csv(\"chocolate_procesos.csv\")\n",
        "\n",
        "# 3. Definir variables predictoras (X) y variable objetivo (y)\n",
        "# X = todos los datos de procesos\n",
        "X = df.drop(\"Calidad_Final\", axis=1)  # elimina la columna de salida\n",
        "y = df[\"Calidad_Final\"]              # objetivo: Primera, Segunda, Reproceso\n",
        "\n",
        "# 4. Codificar la variable de salida\n",
        "label_encoder = LabelEncoder()\n",
        "y_encoded = label_encoder.fit_transform(y)\n",
        "y_cat = to_categorical(y_encoded)   # one-hot encoding (para red neuronal)\n",
        "\n",
        "# 5. Escalar los datos de entrada\n",
        "scaler = StandardScaler()\n",
        "X_scaled = scaler.fit_transform(X)\n",
        "\n",
        "# 6. Dividir en entrenamiento y prueba\n",
        "X_train, X_test, y_train, y_test = train_test_split(X_scaled, y_cat, test_size=0.2, random_state=42)\n",
        "\n",
        "# 7. Definir la arquitectura de la red neuronal MLP\n",
        "model = Sequential([\n",
        "    Dense(64, activation='relu', input_shape=(X_train.shape[1],)), # capa de entrada\n",
        "    Dropout(0.3),  # regularización\n",
        "    Dense(32, activation='relu'),\n",
        "    Dropout(0.2),\n",
        "    Dense(y_cat.shape[1], activation='softmax')  # capa de salida (3 clases)\n",
        "])\n",
        "\n",
        "# 8. Compilar el modelo\n",
        "model.compile(optimizer='adam', loss='categorical_crossentropy', metrics=['accuracy'])\n",
        "\n",
        "# 9. Entrenar el modelo\n",
        "history = model.fit(X_train, y_train, validation_data=(X_test, y_test), epochs=50, batch_size=16, verbose=1)\n",
        "\n",
        "# 10. Evaluar resultados\n",
        "loss, acc = model.evaluate(X_test, y_test, verbose=0)\n",
        "print(f\"✅ Precisión en datos de prueba: {acc*100:.2f}%\")\n",
        "\n",
        "# 11. Ejemplo de predicción con un nuevo lote\n",
        "ejemplo = np.array([X_test[0]])  # primer registro de test\n",
        "pred = model.predict(ejemplo)\n",
        "clase_pred = label_encoder.inverse_transform([np.argmax(pred)])\n",
        "print(\"Predicción para lote de ejemplo:\", clase_pred[0])\n"
      ]
    },
    {
      "cell_type": "code",
      "metadata": {
        "colab": {
          "base_uri": "https://localhost:8080/"
        },
        "id": "1b3791f1",
        "outputId": "fd4f9715-697b-4df0-bb4b-a073e3ac20bf"
      },
      "source": [
        "import pandas as pd\n",
        "import numpy as np\n",
        "\n",
        "# Create a dummy DataFrame that simulates the structure of chocolate_procesos.csv\n",
        "# It should have features (processes) and the target variable 'Calidad_Final'\n",
        "\n",
        "# Define some dummy process columns (adjust based on your actual data if you have it)\n",
        "process_cols = [f'proceso_{i}' for i in range(10)] # Example: 10 process features\n",
        "\n",
        "# Generate random data for the process columns\n",
        "data = np.random.rand(100, len(process_cols)) * 100 # 100 rows, random values between 0 and 100\n",
        "\n",
        "# Define possible quality outcomes\n",
        "calidad_outcomes = ['Primera', 'Segunda', 'Reproceso']\n",
        "\n",
        "# Generate random quality outcomes\n",
        "calidad_final = np.random.choice(calidad_outcomes, 100)\n",
        "\n",
        "# Create the DataFrame\n",
        "dummy_df = pd.DataFrame(data, columns=process_cols)\n",
        "dummy_df['Calidad_Final'] = calidad_final\n",
        "\n",
        "# Save the dummy DataFrame to a CSV file\n",
        "dummy_df.to_csv(\"chocolate_procesos.csv\", index=False)\n",
        "\n",
        "print(\"Dummy 'chocolate_procesos.csv' created successfully.\")"
      ],
      "execution_count": null,
      "outputs": [
        {
          "output_type": "stream",
          "name": "stdout",
          "text": [
            "Dummy 'chocolate_procesos.csv' created successfully.\n"
          ]
        }
      ]
    }
  ]
}